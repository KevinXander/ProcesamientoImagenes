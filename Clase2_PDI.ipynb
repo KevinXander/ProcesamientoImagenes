{
  "nbformat": 4,
  "nbformat_minor": 0,
  "metadata": {
    "colab": {
      "name": "Clase2 PDI.ipynb",
      "provenance": [],
      "authorship_tag": "ABX9TyOG6h4OrNszJaXFY8V4F9qe",
      "include_colab_link": true
    },
    "kernelspec": {
      "name": "python3",
      "display_name": "Python 3"
    }
  },
  "cells": [
    {
      "cell_type": "markdown",
      "metadata": {
        "id": "view-in-github",
        "colab_type": "text"
      },
      "source": [
        "<a href=\"https://colab.research.google.com/github/KevinXander/ProcesamientoImagenes/blob/master/Clase2_PDI.ipynb\" target=\"_parent\"><img src=\"https://colab.research.google.com/assets/colab-badge.svg\" alt=\"Open In Colab\"/></a>"
      ]
    },
    {
      "cell_type": "code",
      "metadata": {
        "id": "CBKcNAtUcVDc",
        "colab_type": "code",
        "colab": {
          "base_uri": "https://localhost:8080/",
          "height": 34
        },
        "outputId": "3e5fd470-eb0b-48c9-f8fb-a63aa5284741"
      },
      "source": [
        "x=0\n",
        "print(x)"
      ],
      "execution_count": 2,
      "outputs": [
        {
          "output_type": "stream",
          "text": [
            "0\n"
          ],
          "name": "stdout"
        }
      ]
    },
    {
      "cell_type": "code",
      "metadata": {
        "id": "AhZxgw3qlnZZ",
        "colab_type": "code",
        "colab": {
          "base_uri": "https://localhost:8080/",
          "height": 34
        },
        "outputId": "9e9de5a0-1839-429c-a0e3-4855e72d146c"
      },
      "source": [
        "y=0.0\n",
        "z=True\n",
        "w=\"\" \n",
        "print(y,z)"
      ],
      "execution_count": 4,
      "outputs": [
        {
          "output_type": "stream",
          "text": [
            "0.0 True\n"
          ],
          "name": "stdout"
        }
      ]
    },
    {
      "cell_type": "code",
      "metadata": {
        "id": "L-tKRAlMnAhM",
        "colab_type": "code",
        "colab": {}
      },
      "source": [
        "import cv2"
      ],
      "execution_count": 0,
      "outputs": []
    },
    {
      "cell_type": "code",
      "metadata": {
        "id": "N385dfmOnW-L",
        "colab_type": "code",
        "colab": {
          "base_uri": "https://localhost:8080/",
          "height": 34
        },
        "outputId": "290f08d9-b2d0-4029-90cc-b8f49ca7fc1b"
      },
      "source": [
        "def suma (a,b):\n",
        "  c=a+b\n",
        "  return c\n",
        "\n",
        "suma(2,7)"
      ],
      "execution_count": 9,
      "outputs": [
        {
          "output_type": "execute_result",
          "data": {
            "text/plain": [
              "9"
            ]
          },
          "metadata": {
            "tags": []
          },
          "execution_count": 9
        }
      ]
    },
    {
      "cell_type": "code",
      "metadata": {
        "id": "4yimgiNiqV_s",
        "colab_type": "code",
        "colab": {
          "base_uri": "https://localhost:8080/",
          "height": 51
        },
        "outputId": "79c22e5c-eafd-4089-90be-2eed12c81284"
      },
      "source": [
        "def perimetro(r):\n",
        "  x = r*4\n",
        "  return x\n",
        "\n",
        "def area(m,n):\n",
        "  y = m*n\n",
        "  return y\n",
        "\n",
        "def cuadrado():\n",
        "  print (perimetro(2))\n",
        "  print (area(4,4))\n",
        "\n",
        "cuadrado()"
      ],
      "execution_count": 19,
      "outputs": [
        {
          "output_type": "stream",
          "text": [
            "8\n",
            "16\n"
          ],
          "name": "stdout"
        }
      ]
    },
    {
      "cell_type": "code",
      "metadata": {
        "id": "uHx5Uaxq4wDW",
        "colab_type": "code",
        "colab": {
          "base_uri": "https://localhost:8080/",
          "height": 34
        },
        "outputId": "6ceb6509-7432-4ad7-9afc-cc9ca8a1c00c"
      },
      "source": [
        "lista=[]\n",
        "lista = [0, \"hola\", 2, \"mundo\", 4.4]\n",
        "lista.append(\"hello\")\n",
        "print(lista)"
      ],
      "execution_count": 25,
      "outputs": [
        {
          "output_type": "stream",
          "text": [
            "[0, 'hola', 2, 'mundo', 4.4, 'hello']\n"
          ],
          "name": "stdout"
        }
      ]
    }
  ]
}